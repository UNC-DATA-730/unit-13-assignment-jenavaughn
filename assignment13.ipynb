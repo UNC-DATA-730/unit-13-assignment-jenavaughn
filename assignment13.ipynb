{
 "cells": [
  {
   "cell_type": "markdown",
   "id": "df0d234f-1e1a-4495-8208-e177e7f527aa",
   "metadata": {},
   "source": [
    "Complete the exercises below For **Assignment #13**."
   ]
  },
  {
   "cell_type": "markdown",
   "id": "99d3796a-5167-4b91-b01b-d07279d2c0ce",
   "metadata": {},
   "source": [
    "Load the `ISLR2` and the `tidymodels` packages."
   ]
  },
  {
   "cell_type": "code",
   "execution_count": 4,
   "id": "0ddb641e-0631-4834-ab73-22505fd2631a",
   "metadata": {
    "tags": []
   },
   "outputs": [
    {
     "name": "stderr",
     "output_type": "stream",
     "text": [
      "── \u001b[1mAttaching packages\u001b[22m ────────────────────────────────────── tidymodels 1.2.0 ──\n",
      "\n",
      "\u001b[32m✔\u001b[39m \u001b[34mbroom       \u001b[39m 1.0.5      \u001b[32m✔\u001b[39m \u001b[34mrecipes     \u001b[39m 1.0.10\n",
      "\u001b[32m✔\u001b[39m \u001b[34mdials       \u001b[39m 1.2.1      \u001b[32m✔\u001b[39m \u001b[34mrsample     \u001b[39m 1.2.1 \n",
      "\u001b[32m✔\u001b[39m \u001b[34mdplyr       \u001b[39m 1.1.4      \u001b[32m✔\u001b[39m \u001b[34mtibble      \u001b[39m 3.2.1 \n",
      "\u001b[32m✔\u001b[39m \u001b[34mggplot2     \u001b[39m 3.5.1      \u001b[32m✔\u001b[39m \u001b[34mtidyr       \u001b[39m 1.3.1 \n",
      "\u001b[32m✔\u001b[39m \u001b[34minfer       \u001b[39m 1.0.7      \u001b[32m✔\u001b[39m \u001b[34mtune        \u001b[39m 1.2.1 \n",
      "\u001b[32m✔\u001b[39m \u001b[34mmodeldata   \u001b[39m 1.3.0      \u001b[32m✔\u001b[39m \u001b[34mworkflows   \u001b[39m 1.1.4 \n",
      "\u001b[32m✔\u001b[39m \u001b[34mparsnip     \u001b[39m 1.2.1      \u001b[32m✔\u001b[39m \u001b[34mworkflowsets\u001b[39m 1.1.0 \n",
      "\u001b[32m✔\u001b[39m \u001b[34mpurrr       \u001b[39m 1.0.2      \u001b[32m✔\u001b[39m \u001b[34myardstick   \u001b[39m 1.3.1 \n",
      "\n",
      "── \u001b[1mConflicts\u001b[22m ───────────────────────────────────────── tidymodels_conflicts() ──\n",
      "\u001b[31m✖\u001b[39m \u001b[34mpurrr\u001b[39m::\u001b[32mdiscard()\u001b[39m masks \u001b[34mscales\u001b[39m::discard()\n",
      "\u001b[31m✖\u001b[39m \u001b[34mdplyr\u001b[39m::\u001b[32mfilter()\u001b[39m  masks \u001b[34mstats\u001b[39m::filter()\n",
      "\u001b[31m✖\u001b[39m \u001b[34mdplyr\u001b[39m::\u001b[32mlag()\u001b[39m     masks \u001b[34mstats\u001b[39m::lag()\n",
      "\u001b[31m✖\u001b[39m \u001b[34mrecipes\u001b[39m::\u001b[32mstep()\u001b[39m  masks \u001b[34mstats\u001b[39m::step()\n",
      "\u001b[34m•\u001b[39m Use \u001b[32mtidymodels_prefer()\u001b[39m to resolve common conflicts.\n",
      "\n"
     ]
    }
   ],
   "source": [
    "library('ISLR2')\n",
    "library('tidymodels')"
   ]
  },
  {
   "cell_type": "markdown",
   "id": "8faea7c9-123f-4664-bb30-7e4c3c864255",
   "metadata": {},
   "source": [
    "In this assignment we will use the `Default` dataset which includes the default status for credit card customers (`default` variable) in addition to each customer's:\n",
    "\n",
    "1. credit card balance (`balance` variable),\n",
    "1. student status (`student` variable), and,\n",
    "1. income (`income` variable)."
   ]
  },
  {
   "cell_type": "code",
   "execution_count": 9,
   "id": "0b0c3ba0-d37c-42bc-a46d-cbc614d72484",
   "metadata": {
    "tags": []
   },
   "outputs": [
    {
     "data": {
      "text/html": [
       "<table class=\"dataframe\">\n",
       "<caption>A data.frame: 6 × 4</caption>\n",
       "<thead>\n",
       "\t<tr><th></th><th scope=col>default</th><th scope=col>student</th><th scope=col>balance</th><th scope=col>income</th></tr>\n",
       "\t<tr><th></th><th scope=col>&lt;fct&gt;</th><th scope=col>&lt;fct&gt;</th><th scope=col>&lt;dbl&gt;</th><th scope=col>&lt;dbl&gt;</th></tr>\n",
       "</thead>\n",
       "<tbody>\n",
       "\t<tr><th scope=row>1</th><td>No</td><td>No </td><td> 729.5265</td><td>44361.625</td></tr>\n",
       "\t<tr><th scope=row>2</th><td>No</td><td>Yes</td><td> 817.1804</td><td>12106.135</td></tr>\n",
       "\t<tr><th scope=row>3</th><td>No</td><td>No </td><td>1073.5492</td><td>31767.139</td></tr>\n",
       "\t<tr><th scope=row>4</th><td>No</td><td>No </td><td> 529.2506</td><td>35704.494</td></tr>\n",
       "\t<tr><th scope=row>5</th><td>No</td><td>No </td><td> 785.6559</td><td>38463.496</td></tr>\n",
       "\t<tr><th scope=row>6</th><td>No</td><td>Yes</td><td> 919.5885</td><td> 7491.559</td></tr>\n",
       "</tbody>\n",
       "</table>\n"
      ],
      "text/latex": [
       "A data.frame: 6 × 4\n",
       "\\begin{tabular}{r|llll}\n",
       "  & default & student & balance & income\\\\\n",
       "  & <fct> & <fct> & <dbl> & <dbl>\\\\\n",
       "\\hline\n",
       "\t1 & No & No  &  729.5265 & 44361.625\\\\\n",
       "\t2 & No & Yes &  817.1804 & 12106.135\\\\\n",
       "\t3 & No & No  & 1073.5492 & 31767.139\\\\\n",
       "\t4 & No & No  &  529.2506 & 35704.494\\\\\n",
       "\t5 & No & No  &  785.6559 & 38463.496\\\\\n",
       "\t6 & No & Yes &  919.5885 &  7491.559\\\\\n",
       "\\end{tabular}\n"
      ],
      "text/markdown": [
       "\n",
       "A data.frame: 6 × 4\n",
       "\n",
       "| <!--/--> | default &lt;fct&gt; | student &lt;fct&gt; | balance &lt;dbl&gt; | income &lt;dbl&gt; |\n",
       "|---|---|---|---|---|\n",
       "| 1 | No | No  |  729.5265 | 44361.625 |\n",
       "| 2 | No | Yes |  817.1804 | 12106.135 |\n",
       "| 3 | No | No  | 1073.5492 | 31767.139 |\n",
       "| 4 | No | No  |  529.2506 | 35704.494 |\n",
       "| 5 | No | No  |  785.6559 | 38463.496 |\n",
       "| 6 | No | Yes |  919.5885 |  7491.559 |\n",
       "\n"
      ],
      "text/plain": [
       "  default student balance   income   \n",
       "1 No      No       729.5265 44361.625\n",
       "2 No      Yes      817.1804 12106.135\n",
       "3 No      No      1073.5492 31767.139\n",
       "4 No      No       529.2506 35704.494\n",
       "5 No      No       785.6559 38463.496\n",
       "6 No      Yes      919.5885  7491.559"
      ]
     },
     "metadata": {},
     "output_type": "display_data"
    }
   ],
   "source": [
    "Default |> head()"
   ]
  },
  {
   "cell_type": "markdown",
   "id": "d77d04d6-6882-44c3-8658-7fec6c73ac4e",
   "metadata": {},
   "source": [
    "We will be modeling `default` with the customer features.\n",
    "\n",
    "Before we begin let's count how many customers fall into each `default` category."
   ]
  },
  {
   "cell_type": "code",
   "execution_count": 10,
   "id": "45716b9b-22d9-4731-b8fe-c4f1fdb5e66f",
   "metadata": {
    "tags": []
   },
   "outputs": [
    {
     "data": {
      "text/html": [
       "<table class=\"dataframe\">\n",
       "<caption>A data.frame: 2 × 2</caption>\n",
       "<thead>\n",
       "\t<tr><th scope=col>default</th><th scope=col>n</th></tr>\n",
       "\t<tr><th scope=col>&lt;fct&gt;</th><th scope=col>&lt;int&gt;</th></tr>\n",
       "</thead>\n",
       "<tbody>\n",
       "\t<tr><td>No </td><td>9667</td></tr>\n",
       "\t<tr><td>Yes</td><td> 333</td></tr>\n",
       "</tbody>\n",
       "</table>\n"
      ],
      "text/latex": [
       "A data.frame: 2 × 2\n",
       "\\begin{tabular}{ll}\n",
       " default & n\\\\\n",
       " <fct> & <int>\\\\\n",
       "\\hline\n",
       "\t No  & 9667\\\\\n",
       "\t Yes &  333\\\\\n",
       "\\end{tabular}\n"
      ],
      "text/markdown": [
       "\n",
       "A data.frame: 2 × 2\n",
       "\n",
       "| default &lt;fct&gt; | n &lt;int&gt; |\n",
       "|---|---|\n",
       "| No  | 9667 |\n",
       "| Yes |  333 |\n",
       "\n"
      ],
      "text/plain": [
       "  default n   \n",
       "1 No      9667\n",
       "2 Yes      333"
      ]
     },
     "metadata": {},
     "output_type": "display_data"
    }
   ],
   "source": [
    "Default |> count(default)"
   ]
  },
  {
   "cell_type": "markdown",
   "id": "386b40ff-ab7e-4c72-baff-3cd3e2f78157",
   "metadata": {},
   "source": [
    "The data is quite imbalanced. This will be important to keep in mind when we evaluate the performance of our model later. "
   ]
  },
  {
   "cell_type": "markdown",
   "id": "f84af2a1-24e6-43d8-8e22-0a93ca3a01d4",
   "metadata": {},
   "source": [
    "Run the code below to create and training data from `Default`. We will use the \"test\" dataset at the end to get a final evaluation of our best model's accuracy."
   ]
  },
  {
   "cell_type": "code",
   "execution_count": 11,
   "id": "1d725ca5-77de-4025-8ce5-f8e0fef30992",
   "metadata": {
    "tags": []
   },
   "outputs": [],
   "source": [
    "Default_split = initial_split(Default, prop = 0.90, strata = default)\n",
    "\n",
    "Default_train = training(Default_split)\n",
    "Default_test = testing(Default_split)"
   ]
  },
  {
   "cell_type": "markdown",
   "id": "911248f2-2aff-41ce-a124-b455a49f3062",
   "metadata": {},
   "source": [
    "Create a logistic regression model called `mod`. Set the engine to `glm` and the mode to `classification`. "
   ]
  },
  {
   "cell_type": "code",
   "execution_count": 12,
   "id": "b46b8b34-9849-4db2-91a3-027869b944a9",
   "metadata": {
    "tags": []
   },
   "outputs": [],
   "source": [
    "mod = logistic_reg(\n",
    "    mode = 'classification',\n",
    "    engine = 'glm')"
   ]
  },
  {
   "cell_type": "markdown",
   "id": "5c8a45b3-fba6-404e-940c-9b0a50485bab",
   "metadata": {},
   "source": [
    "Our data is imbalanced. As such, a naive model that *always* predicts a customer to **not default** would be correct quite often. Let's start by calculating the \"accuracy\" of a naive model. This will be the baseline accuracy by which we evaluate other models."
   ]
  },
  {
   "cell_type": "code",
   "execution_count": 13,
   "id": "2131ba72-af1e-46ac-b62e-fa694d36b7aa",
   "metadata": {
    "tags": []
   },
   "outputs": [
    {
     "data": {
      "text/html": [
       "<table class=\"dataframe\">\n",
       "<caption>A tibble: 1 × 3</caption>\n",
       "<thead>\n",
       "\t<tr><th scope=col>.metric</th><th scope=col>.estimator</th><th scope=col>.estimate</th></tr>\n",
       "\t<tr><th scope=col>&lt;chr&gt;</th><th scope=col>&lt;chr&gt;</th><th scope=col>&lt;dbl&gt;</th></tr>\n",
       "</thead>\n",
       "<tbody>\n",
       "\t<tr><td>accuracy</td><td>binary</td><td>0.9675556</td></tr>\n",
       "</tbody>\n",
       "</table>\n"
      ],
      "text/latex": [
       "A tibble: 1 × 3\n",
       "\\begin{tabular}{lll}\n",
       " .metric & .estimator & .estimate\\\\\n",
       " <chr> & <chr> & <dbl>\\\\\n",
       "\\hline\n",
       "\t accuracy & binary & 0.9675556\\\\\n",
       "\\end{tabular}\n"
      ],
      "text/markdown": [
       "\n",
       "A tibble: 1 × 3\n",
       "\n",
       "| .metric &lt;chr&gt; | .estimator &lt;chr&gt; | .estimate &lt;dbl&gt; |\n",
       "|---|---|---|\n",
       "| accuracy | binary | 0.9675556 |\n",
       "\n"
      ],
      "text/plain": [
       "  .metric  .estimator .estimate\n",
       "1 accuracy binary     0.9675556"
      ]
     },
     "metadata": {},
     "output_type": "display_data"
    }
   ],
   "source": [
    "# This code calculates the accuracy of a model that always predicts default to be \"No\"\n",
    "\n",
    "Default_train |>\n",
    "    mutate(.pred_naive = factor('No', levels = c('No', 'Yes'))) |>\n",
    "    accuracy(truth = default, .pred_naive)"
   ]
  },
  {
   "cell_type": "markdown",
   "id": "ca30f2d1-9784-4142-a7bd-5ddcb14de08b",
   "metadata": {},
   "source": [
    "Let's use k-fold cross validation to evaluate the performance of a model where the outcome is `default` and the predictors are `income` and `balance`."
   ]
  },
  {
   "cell_type": "markdown",
   "id": "b5b639ce-a03c-48af-84d4-8f9e4d6d7ee4",
   "metadata": {},
   "source": [
    "To start, use `vfold_cv` to generate 10 validation folds (i.e. set the `v` variable to 10). Set the `strata` argument to `default` so we preserve the distribution of `default` values in each fold.\n",
    "\n",
    "Creat your folds below and use `glimpse` to look at the output table. Call your output folds tables \"folds\"."
   ]
  },
  {
   "cell_type": "code",
   "execution_count": 14,
   "id": "2a53ed42-03d9-4840-a702-d8f44f74e773",
   "metadata": {
    "tags": []
   },
   "outputs": [
    {
     "name": "stdout",
     "output_type": "stream",
     "text": [
      "Rows: 10\n",
      "Columns: 2\n",
      "$ splits \u001b[3m\u001b[90m<list>\u001b[39m\u001b[23m [<vfold_split[9000 x 1000 x 10000 x 4]>], [<vfold_split[9000 x…\n",
      "$ id     \u001b[3m\u001b[90m<chr>\u001b[39m\u001b[23m \"Fold01\", \"Fold02\", \"Fold03\", \"Fold04\", \"Fold05\", \"Fold06\", \"Fo…\n"
     ]
    }
   ],
   "source": [
    "folds = vfold_cv(Default, v = 10, strata = default)\n",
    "\n",
    "folds |> glimpse()"
   ]
  },
  {
   "cell_type": "markdown",
   "id": "4bccb76b-ba91-48d6-95ec-88c679d91f2d",
   "metadata": {},
   "source": [
    "The code below fits a model to each of your 10 folds. `collect_metrics` finds the average of evaluation metrics for each of your ten models. "
   ]
  },
  {
   "cell_type": "code",
   "execution_count": 15,
   "id": "4b743466-c50b-491c-b476-0553cafa043d",
   "metadata": {
    "tags": []
   },
   "outputs": [
    {
     "data": {
      "text/html": [
       "<table class=\"dataframe\">\n",
       "<caption>A tibble: 3 × 6</caption>\n",
       "<thead>\n",
       "\t<tr><th scope=col>.metric</th><th scope=col>.estimator</th><th scope=col>mean</th><th scope=col>n</th><th scope=col>std_err</th><th scope=col>.config</th></tr>\n",
       "\t<tr><th scope=col>&lt;chr&gt;</th><th scope=col>&lt;chr&gt;</th><th scope=col>&lt;dbl&gt;</th><th scope=col>&lt;int&gt;</th><th scope=col>&lt;dbl&gt;</th><th scope=col>&lt;chr&gt;</th></tr>\n",
       "</thead>\n",
       "<tbody>\n",
       "\t<tr><td>accuracy   </td><td>binary</td><td>0.97360000</td><td>10</td><td>0.001117537</td><td>Preprocessor1_Model1</td></tr>\n",
       "\t<tr><td>brier_class</td><td>binary</td><td>0.02145916</td><td>10</td><td>0.001086090</td><td>Preprocessor1_Model1</td></tr>\n",
       "\t<tr><td>roc_auc    </td><td>binary</td><td>0.94876222</td><td>10</td><td>0.005821776</td><td>Preprocessor1_Model1</td></tr>\n",
       "</tbody>\n",
       "</table>\n"
      ],
      "text/latex": [
       "A tibble: 3 × 6\n",
       "\\begin{tabular}{llllll}\n",
       " .metric & .estimator & mean & n & std\\_err & .config\\\\\n",
       " <chr> & <chr> & <dbl> & <int> & <dbl> & <chr>\\\\\n",
       "\\hline\n",
       "\t accuracy    & binary & 0.97360000 & 10 & 0.001117537 & Preprocessor1\\_Model1\\\\\n",
       "\t brier\\_class & binary & 0.02145916 & 10 & 0.001086090 & Preprocessor1\\_Model1\\\\\n",
       "\t roc\\_auc     & binary & 0.94876222 & 10 & 0.005821776 & Preprocessor1\\_Model1\\\\\n",
       "\\end{tabular}\n"
      ],
      "text/markdown": [
       "\n",
       "A tibble: 3 × 6\n",
       "\n",
       "| .metric &lt;chr&gt; | .estimator &lt;chr&gt; | mean &lt;dbl&gt; | n &lt;int&gt; | std_err &lt;dbl&gt; | .config &lt;chr&gt; |\n",
       "|---|---|---|---|---|---|\n",
       "| accuracy    | binary | 0.97360000 | 10 | 0.001117537 | Preprocessor1_Model1 |\n",
       "| brier_class | binary | 0.02145916 | 10 | 0.001086090 | Preprocessor1_Model1 |\n",
       "| roc_auc     | binary | 0.94876222 | 10 | 0.005821776 | Preprocessor1_Model1 |\n",
       "\n"
      ],
      "text/plain": [
       "  .metric     .estimator mean       n  std_err     .config             \n",
       "1 accuracy    binary     0.97360000 10 0.001117537 Preprocessor1_Model1\n",
       "2 brier_class binary     0.02145916 10 0.001086090 Preprocessor1_Model1\n",
       "3 roc_auc     binary     0.94876222 10 0.005821776 Preprocessor1_Model1"
      ]
     },
     "metadata": {},
     "output_type": "display_data"
    }
   ],
   "source": [
    "mod |> \n",
    "    fit_resamples(default ~ income + balance, folds) |>\n",
    "    collect_metrics()"
   ]
  },
  {
   "cell_type": "markdown",
   "id": "1f4e0354-98cc-4187-9b8b-34ec5dd54516",
   "metadata": {},
   "source": [
    "❓How does the model accuracy compare to the naive model from above?"
   ]
  },
  {
   "cell_type": "markdown",
   "id": "9305254d-7ad2-4afc-a264-b37bb581153d",
   "metadata": {},
   "source": [
    "The naive model from above had and accuracy of ~.9676 and the average accuracy for a 10 folds is .9736.  Not significantly greater, but including balance and income as predictors increases our model accuracy. "
   ]
  },
  {
   "cell_type": "markdown",
   "id": "fa0d203f-62cd-4543-9018-9f7ba0380320",
   "metadata": {},
   "source": [
    "Complete the cell below to evaluate a model also includes the `student` variable as as predictor.\n",
    "1. use `default ~ income + balance + student` as the formula,\n",
    "2. encode your `student` variable with `step_dummy`, and,\n",
    "3. don't forget to `prep` your recipe!"
   ]
  },
  {
   "cell_type": "code",
   "execution_count": 17,
   "id": "1c1db5b5-445e-4912-aeaa-5073ea17003f",
   "metadata": {
    "tags": []
   },
   "outputs": [
    {
     "data": {
      "text/html": [
       "<table class=\"dataframe\">\n",
       "<caption>A tibble: 3 × 6</caption>\n",
       "<thead>\n",
       "\t<tr><th scope=col>.metric</th><th scope=col>.estimator</th><th scope=col>mean</th><th scope=col>n</th><th scope=col>std_err</th><th scope=col>.config</th></tr>\n",
       "\t<tr><th scope=col>&lt;chr&gt;</th><th scope=col>&lt;chr&gt;</th><th scope=col>&lt;dbl&gt;</th><th scope=col>&lt;int&gt;</th><th scope=col>&lt;dbl&gt;</th><th scope=col>&lt;chr&gt;</th></tr>\n",
       "</thead>\n",
       "<tbody>\n",
       "\t<tr><td>accuracy   </td><td>binary</td><td>0.97310000</td><td>10</td><td>0.001361780</td><td>Preprocessor1_Model1</td></tr>\n",
       "\t<tr><td>brier_class</td><td>binary</td><td>0.02138019</td><td>10</td><td>0.001077471</td><td>Preprocessor1_Model1</td></tr>\n",
       "\t<tr><td>roc_auc    </td><td>binary</td><td>0.94883616</td><td>10</td><td>0.005915629</td><td>Preprocessor1_Model1</td></tr>\n",
       "</tbody>\n",
       "</table>\n"
      ],
      "text/latex": [
       "A tibble: 3 × 6\n",
       "\\begin{tabular}{llllll}\n",
       " .metric & .estimator & mean & n & std\\_err & .config\\\\\n",
       " <chr> & <chr> & <dbl> & <int> & <dbl> & <chr>\\\\\n",
       "\\hline\n",
       "\t accuracy    & binary & 0.97310000 & 10 & 0.001361780 & Preprocessor1\\_Model1\\\\\n",
       "\t brier\\_class & binary & 0.02138019 & 10 & 0.001077471 & Preprocessor1\\_Model1\\\\\n",
       "\t roc\\_auc     & binary & 0.94883616 & 10 & 0.005915629 & Preprocessor1\\_Model1\\\\\n",
       "\\end{tabular}\n"
      ],
      "text/markdown": [
       "\n",
       "A tibble: 3 × 6\n",
       "\n",
       "| .metric &lt;chr&gt; | .estimator &lt;chr&gt; | mean &lt;dbl&gt; | n &lt;int&gt; | std_err &lt;dbl&gt; | .config &lt;chr&gt; |\n",
       "|---|---|---|---|---|---|\n",
       "| accuracy    | binary | 0.97310000 | 10 | 0.001361780 | Preprocessor1_Model1 |\n",
       "| brier_class | binary | 0.02138019 | 10 | 0.001077471 | Preprocessor1_Model1 |\n",
       "| roc_auc     | binary | 0.94883616 | 10 | 0.005915629 | Preprocessor1_Model1 |\n",
       "\n"
      ],
      "text/plain": [
       "  .metric     .estimator mean       n  std_err     .config             \n",
       "1 accuracy    binary     0.97310000 10 0.001361780 Preprocessor1_Model1\n",
       "2 brier_class binary     0.02138019 10 0.001077471 Preprocessor1_Model1\n",
       "3 roc_auc     binary     0.94883616 10 0.005915629 Preprocessor1_Model1"
      ]
     },
     "metadata": {},
     "output_type": "display_data"
    }
   ],
   "source": [
    "rec = recipe(default ~ income + balance + student, data = Default) |>\n",
    "    step_dummy(student) |>\n",
    "    prep()\n",
    "\n",
    "mod |> \n",
    "    fit_resamples(default ~ income + balance + student, folds) |>\n",
    "    collect_metrics()"
   ]
  },
  {
   "cell_type": "markdown",
   "id": "5f06b110-6161-40af-816b-866097d83aad",
   "metadata": {},
   "source": [
    "❓Does it appear that the model that includes `student` improves upon the first model with only `income` and `balance` as predictors?"
   ]
  },
  {
   "cell_type": "markdown",
   "id": "2ef31633-8134-4016-adfc-7b19246d8195",
   "metadata": {},
   "source": [
    "Comparing to the model including only income and balance as predictors, the model with student added has a slightly lower accuracy (.9736 > .9731).  This would indicate that the earlier model (w/o student) is more accurate and a better fit."
   ]
  },
  {
   "cell_type": "markdown",
   "id": "7e15fcb1-cb13-4285-a264-6531c8a1ed17",
   "metadata": {},
   "source": [
    "Finally, estimate the accuracy of an `default ~ income + balance` model on the test data, `Default_test`. \n",
    "\n",
    "❓Does our model outperform a naive model?"
   ]
  },
  {
   "cell_type": "code",
   "execution_count": 116,
   "id": "12a41099-6a0e-4858-8cd2-fea3f1d2398d",
   "metadata": {
    "tags": []
   },
   "outputs": [
    {
     "data": {
      "text/html": [
       "<table class=\"dataframe\">\n",
       "<caption>A tibble: 3 × 5</caption>\n",
       "<thead>\n",
       "\t<tr><th scope=col>term</th><th scope=col>estimate</th><th scope=col>std.error</th><th scope=col>statistic</th><th scope=col>p.value</th></tr>\n",
       "\t<tr><th scope=col>&lt;chr&gt;</th><th scope=col>&lt;dbl&gt;</th><th scope=col>&lt;dbl&gt;</th><th scope=col>&lt;dbl&gt;</th><th scope=col>&lt;dbl&gt;</th></tr>\n",
       "</thead>\n",
       "<tbody>\n",
       "\t<tr><td>(Intercept)</td><td>-1.154047e+01</td><td>4.347564e-01</td><td>-26.544680</td><td>2.958355e-155</td></tr>\n",
       "\t<tr><td>income     </td><td> 2.080898e-05</td><td>4.985167e-06</td><td>  4.174178</td><td> 2.990638e-05</td></tr>\n",
       "\t<tr><td>balance    </td><td> 5.647103e-03</td><td>2.273731e-04</td><td> 24.836280</td><td>3.638120e-136</td></tr>\n",
       "</tbody>\n",
       "</table>\n"
      ],
      "text/latex": [
       "A tibble: 3 × 5\n",
       "\\begin{tabular}{lllll}\n",
       " term & estimate & std.error & statistic & p.value\\\\\n",
       " <chr> & <dbl> & <dbl> & <dbl> & <dbl>\\\\\n",
       "\\hline\n",
       "\t (Intercept) & -1.154047e+01 & 4.347564e-01 & -26.544680 & 2.958355e-155\\\\\n",
       "\t income      &  2.080898e-05 & 4.985167e-06 &   4.174178 &  2.990638e-05\\\\\n",
       "\t balance     &  5.647103e-03 & 2.273731e-04 &  24.836280 & 3.638120e-136\\\\\n",
       "\\end{tabular}\n"
      ],
      "text/markdown": [
       "\n",
       "A tibble: 3 × 5\n",
       "\n",
       "| term &lt;chr&gt; | estimate &lt;dbl&gt; | std.error &lt;dbl&gt; | statistic &lt;dbl&gt; | p.value &lt;dbl&gt; |\n",
       "|---|---|---|---|---|\n",
       "| (Intercept) | -1.154047e+01 | 4.347564e-01 | -26.544680 | 2.958355e-155 |\n",
       "| income      |  2.080898e-05 | 4.985167e-06 |   4.174178 |  2.990638e-05 |\n",
       "| balance     |  5.647103e-03 | 2.273731e-04 |  24.836280 | 3.638120e-136 |\n",
       "\n"
      ],
      "text/plain": [
       "  term        estimate      std.error    statistic  p.value      \n",
       "1 (Intercept) -1.154047e+01 4.347564e-01 -26.544680 2.958355e-155\n",
       "2 income       2.080898e-05 4.985167e-06   4.174178  2.990638e-05\n",
       "3 balance      5.647103e-03 2.273731e-04  24.836280 3.638120e-136"
      ]
     },
     "metadata": {},
     "output_type": "display_data"
    },
    {
     "name": "stdout",
     "output_type": "stream",
     "text": [
      "Rows: 1,000\n",
      "Columns: 7\n",
      "$ .pred_class \u001b[3m\u001b[90m<fct>\u001b[39m\u001b[23m No, No, No, No, No, No, No, No, No, No, No, No, No, No, No…\n",
      "$ .pred_No    \u001b[3m\u001b[90m<dbl>\u001b[39m\u001b[23m 0.9987381, 0.9919738, 0.9955272, 0.9425073, 0.9708034, 0.9…\n",
      "$ .pred_Yes   \u001b[3m\u001b[90m<dbl>\u001b[39m\u001b[23m 1.261930e-03, 8.026211e-03, 4.472807e-03, 5.749274e-02, 2.…\n",
      "$ default     \u001b[3m\u001b[90m<fct>\u001b[39m\u001b[23m No, No, No, No, No, No, No, No, No, No, No, No, No, No, No…\n",
      "$ student     \u001b[3m\u001b[90m<fct>\u001b[39m\u001b[23m Yes, No, No, Yes, No, Yes, No, No, No, No, No, Yes, No, No…\n",
      "$ balance     \u001b[3m\u001b[90m<dbl>\u001b[39m\u001b[23m 817.18041, 1073.54916, 913.58717, 1499.72466, 1238.61032, …\n",
      "$ income      \u001b[3m\u001b[90m<dbl>\u001b[39m\u001b[23m 12106.13, 31767.14, 46907.23, 13190.65, 50066.68, 13120.64…\n"
     ]
    }
   ],
   "source": [
    "mod_fit = mod |> fit(default ~ income + balance, data = Default) \n",
    "\n",
    "tidy(mod_fit)\n",
    "\n",
    "pred = augment(mod_fit, Default_test)\n",
    "\n",
    "pred |> glimpse()"
   ]
  },
  {
   "cell_type": "code",
   "execution_count": 115,
   "id": "45d8fe1d-4428-4a49-b47d-5c502bb3b9d9",
   "metadata": {},
   "outputs": [
    {
     "name": "stdout",
     "output_type": "stream",
     "text": [
      "  .pred_class == default     n\n",
      "1                  0.000 0.034\n",
      "2                  0.001 0.966\n"
     ]
    },
    {
     "data": {
      "text/html": [
       "<table class=\"dataframe\">\n",
       "<caption>A tibble: 2 × 2</caption>\n",
       "<thead>\n",
       "\t<tr><th scope=col>.pred_class == \"No\"</th><th scope=col>n</th></tr>\n",
       "\t<tr><th scope=col>&lt;lgl&gt;</th><th scope=col>&lt;int&gt;</th></tr>\n",
       "</thead>\n",
       "<tbody>\n",
       "\t<tr><td>FALSE</td><td> 23</td></tr>\n",
       "\t<tr><td> TRUE</td><td>977</td></tr>\n",
       "</tbody>\n",
       "</table>\n"
      ],
      "text/latex": [
       "A tibble: 2 × 2\n",
       "\\begin{tabular}{ll}\n",
       " .pred\\_class == \"No\" & n\\\\\n",
       " <lgl> & <int>\\\\\n",
       "\\hline\n",
       "\t FALSE &  23\\\\\n",
       "\t  TRUE & 977\\\\\n",
       "\\end{tabular}\n"
      ],
      "text/markdown": [
       "\n",
       "A tibble: 2 × 2\n",
       "\n",
       "| .pred_class == \"No\" &lt;lgl&gt; | n &lt;int&gt; |\n",
       "|---|---|\n",
       "| FALSE |  23 |\n",
       "|  TRUE | 977 |\n",
       "\n"
      ],
      "text/plain": [
       "  .pred_class == \"No\" n  \n",
       "1 FALSE                23\n",
       "2  TRUE               977"
      ]
     },
     "metadata": {},
     "output_type": "display_data"
    }
   ],
   "source": [
    "accuracy = (count(pred, .pred_class == default)/1000) |>\n",
    "print()\n",
    "\n",
    "count(pred, .pred_class == 'No')"
   ]
  },
  {
   "cell_type": "markdown",
   "id": "920debf1-45bf-49e7-8341-e2228bf7d668",
   "metadata": {},
   "source": [
    "Calculating accuracy of our model fitted against Default_test predictions we can see that our accuracy is .966 which is very close to the accuracy of the naive model. \n",
    "\n",
    "It does not outperform our naive model.  Building our model on the Default data (not on the test split) we can see below that our accuracy increases to .9737 which is greater than our naive model.  I would still suggest using income and balance as predictors for a better fitting model."
   ]
  },
  {
   "cell_type": "code",
   "execution_count": 119,
   "id": "e050f407-2052-4de0-accd-dff7180451bb",
   "metadata": {
    "tags": []
   },
   "outputs": [
    {
     "name": "stdout",
     "output_type": "stream",
     "text": [
      "Rows: 10,000\n",
      "Columns: 7\n",
      "$ .pred_class \u001b[3m\u001b[90m<fct>\u001b[39m\u001b[23m No, No, No, No, No, No, No, No, No, No, No, No, No, No, No…\n",
      "$ .pred_No    \u001b[3m\u001b[90m<dbl>\u001b[39m\u001b[23m 0.9984953, 0.9987381, 0.9919738, 0.9995940, 0.9981733, 0.9…\n",
      "$ .pred_Yes   \u001b[3m\u001b[90m<dbl>\u001b[39m\u001b[23m 1.504728e-03, 1.261930e-03, 8.026211e-03, 4.059957e-04, 1.…\n",
      "$ default     \u001b[3m\u001b[90m<fct>\u001b[39m\u001b[23m No, No, No, No, No, No, No, No, No, No, No, No, No, No, No…\n",
      "$ student     \u001b[3m\u001b[90m<fct>\u001b[39m\u001b[23m No, Yes, No, No, No, Yes, No, Yes, No, No, Yes, Yes, No, N…\n",
      "$ balance     \u001b[3m\u001b[90m<dbl>\u001b[39m\u001b[23m 729.5265, 817.1804, 1073.5492, 529.2506, 785.6559, 919.588…\n",
      "$ income      \u001b[3m\u001b[90m<dbl>\u001b[39m\u001b[23m 44361.625, 12106.135, 31767.139, 35704.494, 38463.496, 749…\n",
      "  .pred_class == default      n\n",
      "1                  0e+00 0.0263\n",
      "2                  1e-04 0.9737\n"
     ]
    },
    {
     "data": {
      "text/html": [
       "<table class=\"dataframe\">\n",
       "<caption>A tibble: 2 × 2</caption>\n",
       "<thead>\n",
       "\t<tr><th scope=col>.pred_class == \"No\"</th><th scope=col>n</th></tr>\n",
       "\t<tr><th scope=col>&lt;lgl&gt;</th><th scope=col>&lt;int&gt;</th></tr>\n",
       "</thead>\n",
       "<tbody>\n",
       "\t<tr><td>FALSE</td><td> 146</td></tr>\n",
       "\t<tr><td> TRUE</td><td>9854</td></tr>\n",
       "</tbody>\n",
       "</table>\n"
      ],
      "text/latex": [
       "A tibble: 2 × 2\n",
       "\\begin{tabular}{ll}\n",
       " .pred\\_class == \"No\" & n\\\\\n",
       " <lgl> & <int>\\\\\n",
       "\\hline\n",
       "\t FALSE &  146\\\\\n",
       "\t  TRUE & 9854\\\\\n",
       "\\end{tabular}\n"
      ],
      "text/markdown": [
       "\n",
       "A tibble: 2 × 2\n",
       "\n",
       "| .pred_class == \"No\" &lt;lgl&gt; | n &lt;int&gt; |\n",
       "|---|---|\n",
       "| FALSE |  146 |\n",
       "|  TRUE | 9854 |\n",
       "\n"
      ],
      "text/plain": [
       "  .pred_class == \"No\" n   \n",
       "1 FALSE                146\n",
       "2  TRUE               9854"
      ]
     },
     "metadata": {},
     "output_type": "display_data"
    }
   ],
   "source": [
    "mod_fit = mod |> fit(default ~ income + balance, data = Default) \n",
    "\n",
    "pred = augment(mod_fit, Default)\n",
    "\n",
    "pred |> glimpse()\n",
    "\n",
    "accuracy = (count(pred, .pred_class == default)/10000) |>\n",
    "print()\n",
    "\n",
    "count(pred, .pred_class == 'No')"
   ]
  }
 ],
 "metadata": {
  "kernelspec": {
   "display_name": "data730:R",
   "language": "R",
   "name": "conda-env-data730-r"
  },
  "language_info": {
   "codemirror_mode": "r",
   "file_extension": ".r",
   "mimetype": "text/x-r-source",
   "name": "R",
   "pygments_lexer": "r",
   "version": "4.3.3"
  }
 },
 "nbformat": 4,
 "nbformat_minor": 5
}
